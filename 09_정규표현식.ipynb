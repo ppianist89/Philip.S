{
  "nbformat": 4,
  "nbformat_minor": 0,
  "metadata": {
    "colab": {
      "provenance": [],
      "authorship_tag": "ABX9TyN7ZfRO7WHjeZYZI8PZoGwc",
      "include_colab_link": true
    },
    "kernelspec": {
      "name": "python3",
      "display_name": "Python 3"
    },
    "language_info": {
      "name": "python"
    }
  },
  "cells": [
    {
      "cell_type": "markdown",
      "metadata": {
        "id": "view-in-github",
        "colab_type": "text"
      },
      "source": [
        "<a href=\"https://colab.research.google.com/github/ppianist89/Philip.S/blob/main/09_%EC%A0%95%EA%B7%9C%ED%91%9C%ED%98%84%EC%8B%9D.ipynb\" target=\"_parent\"><img src=\"https://colab.research.google.com/assets/colab-badge.svg\" alt=\"Open In Colab\"/></a>"
      ]
    },
    {
      "cell_type": "markdown",
      "source": [
        "# 개요"
      ],
      "metadata": {
        "id": "bGJg7ybJVTVV"
      }
    },
    {
      "cell_type": "markdown",
      "source": [
        "- 4차 산업\n",
        "    - 데이터는 원유와 동일하다\n",
        "    - 미래 산업의 원유는 데이터이다\n",
        "\n",
        "- 데이터 **전처리**시 사용 할 수 있다\n",
        "    - 데이터 분석을 하기 위해 수집한 데이터를 **가공** 처리하는 것\n",
        "    - raw data에서 정제 과정을 수행 할 수 있다\n",
        "        - Data Cleaning 과정\n",
        "        - ex) 원문에서 알파벳만 추출\n",
        "- 대상\n",
        "    - **Text Data**\n",
        "- 절차 (Steps of Regular Expression)\n",
        "    - Text Data -> Regex -> 원하는 데이터만 추출"
      ],
      "metadata": {
        "id": "1YUY5wxbV_cd"
      }
    },
    {
      "cell_type": "markdown",
      "source": [
        "# 메인 패키지"
      ],
      "metadata": {
        "id": "o6RmxbGaVTlR"
      }
    },
    {
      "cell_type": "code",
      "source": [
        "import re"
      ],
      "metadata": {
        "id": "vl1CXwYuXV3q"
      },
      "execution_count": null,
      "outputs": []
    },
    {
      "cell_type": "markdown",
      "source": [
        "# 정규식 항목 요약"
      ],
      "metadata": {
        "id": "EsfsWuBZVTsS"
      }
    },
    {
      "cell_type": "markdown",
      "source": [
        "- 메타 문자\n",
        "    - 일반형 : | , ^, $, *, +, ?, { },( ),[ ], -\n",
        "    - Escape : \\d, \\D, \\s, \\S, \\w, \\W, \\b, \\B\n",
        "\n",
        "- 함수 (re에서 제공)\n",
        "    - match()\n",
        "    - search()\n",
        "    - findall()\n",
        "    - finditer()\n",
        "    - **sub()**\n",
        "\n",
        "- 그룹핑\n",
        "    - ()\n",
        "- 컴파일 옵션\n",
        "    - 위의 표현을 단순하게 제시 (단축 표현)\n",
        "\n",
        "- 전방 탐색\n",
        "    - 긍정형\n",
        "    - 부정형\n"
      ],
      "metadata": {
        "id": "nW4GZTP8Xd5p"
      }
    },
    {
      "cell_type": "markdown",
      "source": [
        "# 메타문자 - 일반"
      ],
      "metadata": {
        "id": "5HdJhfmLVT3L"
      }
    },
    {
      "cell_type": "markdown",
      "source": [
        "## |\n",
        "\n",
        "- 의미 : or, ~ 이거나"
      ],
      "metadata": {
        "id": "W4B_Dwo6ZcQC"
      }
    },
    {
      "cell_type": "code",
      "source": [
        "# re.match( 정규식 , 데이터 )\n",
        "#  => 시작 글자가 정규식과 데이터를 기반으로  일치되면 True\n",
        "# 시작 글자가 a or b or c 이면, 매칭되는 값을 리턴\n",
        "# 정규식 조건을 여러개 나열할때 적절 (**하나**라도 해당되면 매칭)\n",
        "if re.match( 'a|b|c','a' ):print('1 matched')\n",
        "if re.match( 'a|b|c','b' ):print('2 matched')\n",
        "if re.match( 'a|b|c','c' ):print('3 matched')\n",
        "\n",
        "if re.match( 'a|b|c','d' ):print('4 matched') # 시작 글자가 조건식 범위에 없음으로 False\n",
        "if re.match( 'a|b|c','ad' ):print('5 matched') # 시작 글자가 조건식 범위에 있음 True\n",
        "if re.match( 'a|b|c','da' ):print('6 matched') # 시작 글자가 조건식 범위에 없음으로 False"
      ],
      "metadata": {
        "colab": {
          "base_uri": "https://localhost:8080/"
        },
        "id": "X-iOfAIHZh_g",
        "outputId": "2e6177ef-2c70-46d0-acfe-3796e5a298a8"
      },
      "execution_count": null,
      "outputs": [
        {
          "output_type": "stream",
          "name": "stdout",
          "text": [
            "1 matched\n",
            "2 matched\n",
            "3 matched\n",
            "5 matched\n"
          ]
        }
      ]
    },
    {
      "cell_type": "markdown",
      "source": [
        "## [ ]"
      ],
      "metadata": {
        "id": "07f3kWl9bJKC"
      }
    },
    {
      "cell_type": "markdown",
      "source": [
        "- 문자 클래스 (문자 하나를(한개를) 대표한다)\n",
        "- [와 ] 사이에 어떤 문자도 올 수 있다\n",
        "- [] 는 문자 한개를 표현\n",
        "- 해당 문자를 여러개로 표현하고 싶다면,\n",
        "아래 기호를 연결해서 사용\n",
        "\n",
        "    - '*': 0 ~ 무한대\n",
        "    - '+': 1 ~ 무한대\n",
        "    - ex : '[문자]* or [문자]+'"
      ],
      "metadata": {
        "id": "k_cW6qoObSeT"
      }
    },
    {
      "cell_type": "code",
      "source": [
        "# 해석 : 문자가 1개(단위) 올 수 있고\n",
        "#        그 1개는 a or b or c 중에 하나이다\n",
        "\n",
        "# 예시 : [a-z]: 알파벳 a부터 z 까지 하나만 올 수 있고\n",
        "# 예시1: [문자문자문자...문자] : 열거된 문자들 중에 하나\n",
        "\n",
        "# 3개 문자중에 하나가 시작 문자로 오면 매칭된다\n",
        "# 아래 5개 예시는, 모두 조건식 abc중 하나의 캐릭터로 데이터가 시작됐기 때문에\n",
        "# 모두 matched 출력\n",
        "\n",
        "if re.match('[abc]', 'a') : print('1 matched')\n",
        "if re.match('[abc]', 'efz') : print('2 matched')\n",
        "if re.match('[abc]', 'abd') : print('3 matched')\n",
        "if re.match('[abc]', 'b56') : print('4 matched')\n",
        "if re.match('[abc]', 'c90') : print('5 matched')\n",
        "\n",
        "# search() : 찾는 내용이 있기만 하면 Ok\n",
        "if re.search('[abc]', '56c') : print('6 matched')\n",
        "\n"
      ],
      "metadata": {
        "colab": {
          "base_uri": "https://localhost:8080/"
        },
        "id": "gzjAsxMNcDIq",
        "outputId": "be17294b-3c5e-4c94-c5b3-29017c2be9fe"
      },
      "execution_count": null,
      "outputs": [
        {
          "output_type": "stream",
          "name": "stdout",
          "text": [
            "1 matched\n",
            "3 matched\n",
            "4 matched\n",
            "5 matched\n",
            "6 matched\n"
          ]
        }
      ]
    },
    {
      "cell_type": "markdown",
      "source": [
        "## -\n",
        "\n",
        "- 문자 클래스([...]) 내에서 두 문자 사이의 범위를 표현\n",
        "    - 두 문자는 ascii 값 혹은 한글 -> utf8 인코딩을 사용->\n",
        "        수치로 표현됨 hence, 수치이기 때문에 범위로 표현이 될 수 있음\n",
        "    \n",
        "    - 참고\n",
        "        - utf8 : 완성형 코드 (8bit, 1byte )\n",
        "            - 가 -> 값 매칭 , ... => 표현되지 않는 글자도 존재\n",
        "            - 한글 : ㄱ 부터 힣 까지가 표현되는 모든 한글의 순서\n",
        "            - (ㄱ-ㅎ , ㅏ-ㅣ, 가-힣) => 한글만 추출 하게 되는 방식\n",
        "        - 한글로 표현되는 모든 글자는 euc-kr 같은 16비트 혹은 24비트로 표현되는 인코딩으로 처리\n"
      ],
      "metadata": {
        "id": "tv_xdt55eJs-"
      }
    },
    {
      "cell_type": "code",
      "source": [
        "# 아라비안숫자 0,1,2... 9\n",
        "if re.match('[0-9]','1'): print('1. matched')\n",
        "if re.match('[0-9]','2b'): print('2. matched')\n",
        "if re.match('[a-z]','b'): print('3. matched')\n",
        "\n",
        "# 조합 : 아라비안 숫자 + 알파벳 대문자 -> 필요한만큼 나열\n",
        "if re.match('[A-Z0-9]','0B'): print('4. matched')\n",
        "\n",
        "# 한글 완성형 코드 기준, 한글이 첫 글자로 데이터가 구성되어 있을때\n",
        "# 매칭 성공\n",
        "if re.match('[ㄱ-힣]','가123'): print('5. matched')"
      ],
      "metadata": {
        "colab": {
          "base_uri": "https://localhost:8080/"
        },
        "id": "hotyAejufqzy",
        "outputId": "11639dbc-d6d1-4092-a304-811b8320ba76"
      },
      "execution_count": null,
      "outputs": [
        {
          "output_type": "stream",
          "name": "stdout",
          "text": [
            "1. matched\n",
            "2. matched\n",
            "3. matched\n",
            "4. matched\n",
            "5. matched\n"
          ]
        }
      ]
    },
    {
      "cell_type": "markdown",
      "source": [
        "## ."
      ],
      "metadata": {
        "id": "h4w2nexikmm_"
      }
    },
    {
      "cell_type": "markdown",
      "source": [
        "- []의 바깥 쪽에서 사용될 경우\n",
        "    - - 줄바꿈 기호(\\n)를 제외한 모든 문자를 대표\n",
        "\n",
        "- [.] 문자 클래스 안쪽에서 사용될 경우\n",
        "    - . : 문자를 표현\n",
        "- 결론\n",
        "    - 사용 위치에 따라 해석이 달라짐 (주의요망)"
      ],
      "metadata": {
        "id": "8j6Y5xtEjneW"
      }
    },
    {
      "cell_type": "code",
      "source": [
        "if re.match('[a.b]','a'):print('1 matched')\n",
        "if re.match('[a.b]','b'):print('2 matched')\n",
        "if re.match('[a.b]','c'):print('3 matched')\n",
        "\n",
        "# [a.b] = > a거나 .이거나 b 이거나 => 셋 중에 하나가 시작 문자로 오면~\n",
        "if re.match('[a.b]','ab'):print('4 matched')\n",
        "if re.match('[a.b]','a1b'):print('5 matched')\n",
        "if re.match('[a.b]','azb'):print('6 matched')\n",
        "if re.match('[a.b]','.zb'):print('7 matched')\n",
        "\n",
        "# . : 모든 문자가 시작문자로 오면 -> 사용 빈도가 낮고, 다른방식을 고민해보는 것이 좋음\n",
        "if re.match('[a.b]','.') :print('8 matched')"
      ],
      "metadata": {
        "colab": {
          "base_uri": "https://localhost:8080/"
        },
        "id": "I-RwxmVIkKTn",
        "outputId": "ef4ffb6f-9e66-4294-82a7-0bd1f846e9c9"
      },
      "execution_count": null,
      "outputs": [
        {
          "output_type": "stream",
          "name": "stdout",
          "text": [
            "1 matched\n",
            "2 matched\n",
            "4 matched\n",
            "5 matched\n",
            "6 matched\n",
            "7 matched\n",
            "8 matched\n"
          ]
        }
      ]
    },
    {
      "cell_type": "markdown",
      "source": [
        "## ^"
      ],
      "metadata": {
        "id": "ahG1P-HKmJVY"
      }
    },
    {
      "cell_type": "markdown",
      "source": [
        "- [^문자]\n",
        "    - ^뒤의 문자는 배제(제외) 된다\n",
        "    - [^a-z] : 모든 알파멧 소문자는 제외 시키고 ~ sub() 을통해 ' ' 문자로 처리\n",
        "- ^[문자]\n",
        "    - 해당 문자로 시작됨 또는 일치함 (match()와 맥락이 비슷)\n",
        "    \n",
        "    - 컴파일 옵션에서 실습\n",
        "        - re.MULTILINE 옵션 사용시, 데이터상의 각 라인에서 처음 문자를 검사 할수있음"
      ],
      "metadata": {
        "id": "CUOp10gwmNOL"
      }
    },
    {
      "cell_type": "code",
      "source": [
        "# 1. 정규식 설정 및 컴파일 => 패턴 생성\n",
        "#    정규식 해석 :\n",
        "#    대문자 A-Z, 특수문자 !,@,&을 제외한 나머지\n",
        "#    모든 문자가 0부터 무한대로 올수 있다 (*의 의미)\n",
        "\n",
        "pattern = re.compile('[^A-Z!@&]*')\n",
        "\n",
        "# 2. 패턴을 이용하여 함수 처리\n",
        "#    <정규식에 매칭>되는 글자를 모두 찾아서 \"\"빈문자로 대체\n",
        "pattern.sub(\"\", 'abcHR123!@#$가나다')"
      ],
      "metadata": {
        "colab": {
          "base_uri": "https://localhost:8080/",
          "height": 36
        },
        "id": "zcvvDSvEnRnu",
        "outputId": "f0b00788-c812-4bfc-ac42-01e2f4cf7194"
      },
      "execution_count": null,
      "outputs": [
        {
          "output_type": "execute_result",
          "data": {
            "text/plain": [
              "'HR!@'"
            ],
            "application/vnd.google.colaboratory.intrinsic+json": {
              "type": "string"
            }
          },
          "metadata": {},
          "execution_count": 31
        }
      ]
    },
    {
      "cell_type": "markdown",
      "source": [
        "## $"
      ],
      "metadata": {
        "id": "i57yQre9pqqD"
      }
    },
    {
      "cell_type": "markdown",
      "source": [
        "- 문자열의 맨끝과 일치 -> $\n",
        "- 문자열의 시작 (문자클래스 제외) => ^\n"
      ],
      "metadata": {
        "id": "PUVyO1R4pr7P"
      }
    },
    {
      "cell_type": "code",
      "source": [
        "# 시작문자 확인\n",
        "# 문자 클래스 내에서 특수문자는 \\특수문자 형태로 표현 할 수 있다 => 구분용\n",
        "# [.]==[\\.] 동일함 ,  \\ 를 쓰는 이유는 조금 더 구분하기 편하기 위해\n",
        "# 0-9 숫자와 .문자가 1개 나올 수 있고, 이 문자가 시작문자가 되면 매칭\n",
        "if re.match('^[0-9\\.]','1') : print('1. match')"
      ],
      "metadata": {
        "colab": {
          "base_uri": "https://localhost:8080/"
        },
        "id": "4ItNnf1fpxuw",
        "outputId": "8f1726ad-a65d-4280-bab9-b53f156b43e4"
      },
      "execution_count": null,
      "outputs": [
        {
          "output_type": "stream",
          "name": "stdout",
          "text": [
            "1. match\n"
          ]
        }
      ]
    },
    {
      "cell_type": "code",
      "source": [
        "# 해석 : 시작문자 숫자 혹은 . 그리고 끝문자 숫자 혹은 . 이여야 매칭\n",
        "if re.match('^[0-9\\.]$','1') : print('2. match')\n",
        "\n",
        "# 해석 : 시작문자는 숫자OK, 끝 문자는 알파벳소문자 X\n",
        "# 해석2 : 안되는 또 다른 이유는? => 1개 문자열만 와야 한다\n",
        "# []=>문자 1개만 대변\n",
        "if re.match('^[0-9\\.]$','1abcdef') : print('3. match')\n",
        "\n",
        "if re.match('^[0-9\\.]$','.') : print('4. match')"
      ],
      "metadata": {
        "colab": {
          "base_uri": "https://localhost:8080/"
        },
        "id": "Qf5kVDZVqM3p",
        "outputId": "cbe47cd2-f137-4de9-ba6f-386d2e9532b3"
      },
      "execution_count": null,
      "outputs": [
        {
          "output_type": "stream",
          "name": "stdout",
          "text": [
            "2. match\n",
            "4. match\n"
          ]
        }
      ]
    },
    {
      "cell_type": "code",
      "source": [
        "# ^[0-9]+ : 시작 문자는 0~9까지 나올 수 있고,\n",
        "#           문자수는 반드시 1회 ~무한대로 나올 수 있다\n",
        "\n",
        "# [a-z]+$ : 끝 문자는 a-z까지 나올 수 있다\n",
        "#           문자수는 반드시 1회 ~ 무한대로 나올 수 있다\n",
        "\n",
        "# 전체적으로 문자수는 반드시 2회 ~ 무한대로 나올 수 있다\n",
        "\n",
        "# 문자수가 1개라서 안됨\n",
        "if re.match('^[0-9]+[a-z]+$','a') : print('4. match')\n",
        "# 얘도안됨  / 끝 문자가 숫자라서 안됨\n",
        "if re.match('^[0-9]+[a-z]+$','11') : print('5. match')\n",
        "# 얘도 안됨 / 끝 문자가 대문자라서\n",
        "if re.match('^[0-9]+[a-z]+$','1111A') : print('6. match')\n",
        "# 얘만\n",
        "if re.match('^[0-9]+[a-z]+$','1b') : print('7. match')"
      ],
      "metadata": {
        "colab": {
          "base_uri": "https://localhost:8080/"
        },
        "id": "ST6P2XEKsZbO",
        "outputId": "0d1da9ad-cba7-47ff-9748-5010508b8fb5"
      },
      "execution_count": null,
      "outputs": [
        {
          "output_type": "stream",
          "name": "stdout",
          "text": [
            "7. match\n"
          ]
        }
      ]
    },
    {
      "cell_type": "markdown",
      "source": [
        "## +,*"
      ],
      "metadata": {
        "id": "8-eHMPKxjlqd"
      }
    },
    {
      "cell_type": "markdown",
      "source": [
        "- '+'\n",
        "    - 앞에 문자가 1 ~ 무한대 반복 등장 가능\n",
        "- '*'\n",
        "    - 앞에 문자가 0 ~ 무한대 반복 등장 가능"
      ],
      "metadata": {
        "id": "9w5TU05mt--W"
      }
    },
    {
      "cell_type": "code",
      "source": [
        "if re.match('^[0-9\\.]+$','11') : print('1. match')\n",
        "if re.match('^[0-9\\.]+$','1') : print('2. match')\n",
        "if re.match('^[0-9\\.]+$','1.1') : print('3. match')\n",
        "if re.match('^[0-9\\.]+$','.') : print('4. match')"
      ],
      "metadata": {
        "colab": {
          "base_uri": "https://localhost:8080/"
        },
        "id": "TyRfC-8j-QB_",
        "outputId": "8ca1bc33-72cd-4b44-b800-63ac93819baa"
      },
      "execution_count": null,
      "outputs": [
        {
          "output_type": "stream",
          "name": "stdout",
          "text": [
            "1. match\n",
            "2. match\n",
            "3. match\n",
            "4. match\n"
          ]
        }
      ]
    },
    {
      "cell_type": "code",
      "source": [
        "# 해석 : 문자는 1개가 와야하고, 숫자를 제외한 모든 문자가 와야하는데 그렇지 않음\n",
        "if re.match('[^0-9]','1') : print('1. match')\n",
        "if re.match('[^0-9]','가') : print('2. match')\n",
        "if re.match('[^0-9]','a') : print('3. match')\n"
      ],
      "metadata": {
        "colab": {
          "base_uri": "https://localhost:8080/"
        },
        "id": "0SzdnLsK-vlv",
        "outputId": "fb01834a-bc81-4b7f-9664-a42068f6bd01"
      },
      "execution_count": null,
      "outputs": [
        {
          "output_type": "stream",
          "name": "stdout",
          "text": [
            "2. match\n",
            "3. match\n"
          ]
        }
      ]
    },
    {
      "cell_type": "code",
      "source": [
        "# * 해석 : 바로 앞에 있는 문자가 0 ~부터 무한대로 나올 수 있다\n",
        "\n",
        "if re.match('seo*ul','seul') : print('1. match')\n",
        "if re.match('seo*ul','seoul') : print('2. match')\n",
        "if re.match('seo*ul','seoooul') : print('3. match')\n"
      ],
      "metadata": {
        "colab": {
          "base_uri": "https://localhost:8080/"
        },
        "id": "SBIHA4TR_cCF",
        "outputId": "3644bf3e-abfa-445b-dca8-e50ca7a77710"
      },
      "execution_count": null,
      "outputs": [
        {
          "output_type": "stream",
          "name": "stdout",
          "text": [
            "1. match\n",
            "2. match\n",
            "3. match\n"
          ]
        }
      ]
    },
    {
      "cell_type": "code",
      "source": [
        "\n",
        "if re.match('seo+ul','seul') : print('1. match')\n",
        "if re.match('seo+ul','seoul') : print('2. match')\n",
        "if re.match('seo+ul','seoooul') : print('3. match')"
      ],
      "metadata": {
        "colab": {
          "base_uri": "https://localhost:8080/"
        },
        "id": "NBrYNGYo_9BR",
        "outputId": "47e7ef2d-5b14-420c-bf00-67d6e1a95cff"
      },
      "execution_count": null,
      "outputs": [
        {
          "output_type": "stream",
          "name": "stdout",
          "text": [
            "2. match\n",
            "3. match\n"
          ]
        }
      ]
    },
    {
      "cell_type": "markdown",
      "source": [
        "## { }"
      ],
      "metadata": {
        "id": "cK_StSDmAdPN"
      }
    },
    {
      "cell_type": "markdown",
      "source": [
        "- 반복 회수를 지정하는 표현\n",
        "    - 문자 클래스 내에서는 의미가 없다\n",
        "        -  []{2}\n",
        "            - 문자 클래스 내에 허용되는 모든 문자를 2회 반복 할 수 있다\n",
        "    - 일반 표현식에서 사용\n",
        "-ex)\n",
        "    - {2}   : 2회 반복\n",
        "    - {2,3} : 2~3회까지 반복 가능\n",
        "        - 공백으로 칸을 두지 않는다\n",
        "        -{2, 3} = X\n",
        "    "
      ],
      "metadata": {
        "id": "k7Nx3IHBAfB8"
      }
    },
    {
      "cell_type": "code",
      "source": [
        "# 정교하게 반복수를 지정해서 패턴을 찾는다\n",
        "if re.match('seo{2}ul','seul') : print('1 match')\n",
        "if re.match('seo{2}ul','seuol') : print('2 match')\n",
        "if re.match('seo{2}ul','seooul') : print('3 match')\n",
        "if re.match('seo{2}ul','seooooul') : print('4 match')"
      ],
      "metadata": {
        "colab": {
          "base_uri": "https://localhost:8080/"
        },
        "id": "McyIvg-xA9xw",
        "outputId": "6225a081-8a7d-4974-dbde-6ff24b4dd2de"
      },
      "execution_count": null,
      "outputs": [
        {
          "output_type": "stream",
          "name": "stdout",
          "text": [
            "3 match\n"
          ]
        }
      ]
    },
    {
      "cell_type": "code",
      "source": [
        "# 반복 2회 or 3회 모두 OK\n",
        "\n",
        "if re.match('seo{2,3}ul','seul') : print('1 match')\n",
        "if re.match('seo{2,3}ul','seuol') : print('2 match')\n",
        "if re.match('seo{2,3}ul','seooul') : print('3 match')\n",
        "if re.match('seo{2,3}ul','seoooul') : print('4 match')\n",
        "if re.match('seo{2,3}ul','seoooooooul') : print('5 match')\n"
      ],
      "metadata": {
        "colab": {
          "base_uri": "https://localhost:8080/"
        },
        "id": "JsoSIijbBSjZ",
        "outputId": "d4978efb-5958-420c-db5c-c16fa5d2e47e"
      },
      "execution_count": null,
      "outputs": [
        {
          "output_type": "stream",
          "name": "stdout",
          "text": [
            "3 match\n",
            "4 match\n"
          ]
        }
      ]
    },
    {
      "cell_type": "markdown",
      "source": [
        "## ?\n",
        "\n",
        "- 문자?\n",
        "    - 해당 문자 0회(안나오던지), 1회(1번 나오던지)"
      ],
      "metadata": {
        "id": "rAcPLQY2B_i8"
      }
    },
    {
      "cell_type": "code",
      "source": [
        "if re.match('seo?ul','seul') : print('1 match')\n",
        "if re.match('seo?ul','seoul') : print('2 match')\n",
        "if re.match('seo?ul','seooul') : print('3 match')"
      ],
      "metadata": {
        "colab": {
          "base_uri": "https://localhost:8080/"
        },
        "id": "40ea0W4JCUEC",
        "outputId": "ace2a3c8-b884-4485-9f71-7e2251a13573"
      },
      "execution_count": null,
      "outputs": [
        {
          "output_type": "stream",
          "name": "stdout",
          "text": [
            "1 match\n",
            "2 match\n"
          ]
        }
      ]
    },
    {
      "cell_type": "markdown",
      "source": [
        "## 실습\n",
        "\n",
        "- 핸드폰 번호 정규식 생성\n",
        "    - 규칙\n",
        "        - XXX-XXX-XXXX\n",
        "        - XXX_XXXX-XXXX\n",
        "        - X : 0-9\n",
        "        - 맨앞 XXX는 무조건 010 고정\n",
        "            - 시작문자(^)    : 010-\n",
        "            - 끝문자  ($,{}) : 0-9까지 문자로 4개\n",
        "            - 중간문자({})   : 0-9까지 문자로 3~4개"
      ],
      "metadata": {
        "id": "MHosVSC0Ci7t"
      }
    },
    {
      "cell_type": "code",
      "source": [
        "if re.match('^010-[0-9]{3,4}-[0-9]{4}$','010-111-2222'): print('1.match')\n",
        "if re.match('^010-[0-9]{3,4}-[0-9]{4}$','010-1111-2222'): print('2.match')\n",
        "\n",
        "#시작문자(열) 점검, 처음부터 정규식 패턴이 바뀌는 지점까지(특수 표현이 있기전까지)\n",
        "# 여기서는 010-\n",
        "if re.match('^010-[0-9]{3,4}-[0-9]{4}$', '010-1111-2222'): print('3.match')\n",
        "if re.match('^010-[0-9]{3,4}-[0-9]{4}$', '010+1111-2222'): print('4.match')\n",
        "#뒷문자 패턴 숫자로 반드시 4개 등장\n",
        "if re.match('^010-[0-9]{3,4}-[0-9]{4}$', '010-1111-222'): print('5.match')\n",
        "\n",
        "# -은 뒷문자 패턴은 아닌것으로 보임, 해당위치에 고정값으로 패턴 인식\n",
        "# 패턴속에 문자를 배치 => 고정값이 되서 정규식처럼 체크됨\n",
        "if re.match('^010-[0-9]{3,4}-[0-9]{4}$', '010-1111*222'): print('6.match')\n"
      ],
      "metadata": {
        "colab": {
          "base_uri": "https://localhost:8080/"
        },
        "id": "hUf3b7hLC9Oq",
        "outputId": "c5644349-c4e3-4f63-a5df-1770604c8b79"
      },
      "execution_count": null,
      "outputs": [
        {
          "output_type": "stream",
          "name": "stdout",
          "text": [
            "1.match\n",
            "2.match\n",
            "3.match\n"
          ]
        }
      ]
    },
    {
      "cell_type": "markdown",
      "source": [
        "# 메타문자 - escape문자"
      ],
      "metadata": {
        "id": "ldKZy-IXVUGM"
      }
    },
    {
      "cell_type": "markdown",
      "source": [
        "- 형식\n",
        "    - \\일반 문자\n",
        "        - 문자 클랫 내에서 문자로 인식\n",
        "        - [\\. ] = [.]와 동일\n",
        "\n",
        "    - \\예약된 문자\n",
        "        - \\t(탭), \\n(줄바꿈), \\r(라인피드) => white space\n",
        "        - white space, 출력하면 빈칸으로 나온다\n",
        "\n",
        "    - \\정규식용 문자(예약된 형식) (대소문자간 반대 극성)\n",
        "\n",
        "        - \\d \\s \\w  \\b\n",
        "        - \\D \\S \\W \\B\n",
        "\n",
        "            - d : 숫자만표현 ,        D : 숫자가 아닌 모든 문자\n",
        "            - s : white space,        S : white space가 아닌 모든 문자\n",
        "            - w : 문자와 숫자만 표현, W : 특수문자,white space만 표현"
      ],
      "metadata": {
        "id": "tOOvIiWvIJhz"
      }
    },
    {
      "cell_type": "code",
      "source": [
        "# [\\d] => [0-9] => 숫자만 해당\n",
        "if re.match('[\\d]','2'): print('1.match')\n",
        "if re.match('[\\d]','a'): print('2.match')"
      ],
      "metadata": {
        "colab": {
          "base_uri": "https://localhost:8080/"
        },
        "id": "lQJflo_QJNXh",
        "outputId": "6f4d946f-a1bd-48b0-f0ed-0e0f534a95f0"
      },
      "execution_count": null,
      "outputs": [
        {
          "output_type": "stream",
          "name": "stdout",
          "text": [
            "1.match\n"
          ]
        }
      ]
    },
    {
      "cell_type": "code",
      "source": [
        "# [\\D] => [^0-9] => 숫자가 아닌 모든 문자\n",
        "if re.match('[\\D]','1'): print('1.match')\n",
        "if re.match('[\\D]','a'): print('2.match')\n",
        "if re.match('[\\D]','가'): print('3.match')\n"
      ],
      "metadata": {
        "colab": {
          "base_uri": "https://localhost:8080/"
        },
        "id": "_bIAEmBNJQ9T",
        "outputId": "4c9db714-929f-4f13-8b7d-4b26791acf77"
      },
      "execution_count": null,
      "outputs": [
        {
          "output_type": "stream",
          "name": "stdout",
          "text": [
            "2.match\n",
            "3.match\n",
            "4.match\n"
          ]
        }
      ]
    },
    {
      "cell_type": "code",
      "source": [
        "# \\s : white space, \\t, \\n, ...\n",
        "# 문자열 내에 메타 정보를 수행 (여백, 특정공간 여백, 줄바꿈,...)\n",
        "if re.match('[\\s]','\\n'): print('1.match')\n",
        "if re.match('[\\s]','\\a'): print('2.match')"
      ],
      "metadata": {
        "colab": {
          "base_uri": "https://localhost:8080/"
        },
        "id": "PftJc42xMXf0",
        "outputId": "91980cff-6499-4aa9-db12-9d3f5b7b3fcf"
      },
      "execution_count": null,
      "outputs": [
        {
          "output_type": "stream",
          "name": "stdout",
          "text": [
            "1.match\n"
          ]
        }
      ]
    },
    {
      "cell_type": "code",
      "source": [
        "if re.match('[\\S]','\\n'): print('1.match')\n",
        "if re.match('[\\S]','\\a'): print('2.match')"
      ],
      "metadata": {
        "colab": {
          "base_uri": "https://localhost:8080/"
        },
        "id": "hkIcc8VVMtzK",
        "outputId": "585089f8-37f4-48f7-c7c3-9d446dcb8c38"
      },
      "execution_count": null,
      "outputs": [
        {
          "output_type": "stream",
          "name": "stdout",
          "text": [
            "2.match\n"
          ]
        }
      ]
    },
    {
      "cell_type": "code",
      "source": [
        "# \\w : 문자,숫자만 매칭\n",
        "import re\n",
        "if re.match('[\\w]', '1aaa'): print('1.match')\n",
        "if re.match('[\\w]', 'A'): print('2.match')\n",
        "if re.match('[\\w]', '가'): print('3.match')\n",
        "if re.match('[\\w]', '1'): print('4.match')\n",
        "if re.match('[\\w]', '@'): print('5.match')\n",
        "if re.match('[\\w]', '\\n'): print('6.match')"
      ],
      "metadata": {
        "colab": {
          "base_uri": "https://localhost:8080/"
        },
        "id": "wpjmm1-bM5x1",
        "outputId": "b5822dc0-f0ea-4344-bce3-30a84f516ecb"
      },
      "execution_count": 5,
      "outputs": [
        {
          "output_type": "stream",
          "name": "stdout",
          "text": [
            "1.match\n",
            "2.match\n",
            "3.match\n",
            "4.match\n"
          ]
        }
      ]
    },
    {
      "cell_type": "code",
      "source": [
        "# \\W : 특수문자, white space 매칭\n",
        "if re.match('[\\W]', 'a'): print('1.match')\n",
        "if re.match('[\\W]', 'A'): print('2.match')\n",
        "if re.match('[\\W]', '가'): print('3.match')\n",
        "if re.match('[\\W]', '1'): print('4.match')\n",
        "if re.match('[\\W]', '@'): print('5.match')\n",
        "if re.match('[\\W]', '\\n'): print('6.match')"
      ],
      "metadata": {
        "colab": {
          "base_uri": "https://localhost:8080/"
        },
        "id": "R2SN7jDpM4tK",
        "outputId": "9b204332-331e-4765-da92-0ebc52027727"
      },
      "execution_count": null,
      "outputs": [
        {
          "output_type": "stream",
          "name": "stdout",
          "text": [
            "5.match\n",
            "6.match\n"
          ]
        }
      ]
    },
    {
      "cell_type": "code",
      "source": [
        "# raw string\n",
        "# r'' : white space를 하나의 문자로 보장받고 싶다면\n",
        "a = '[ABab가나\\t]\\n12!@'\n",
        "# 대화형 툴에서 값 출력 -> white space를 보장함\n",
        "# -> 문자 취급을 하기 때문에 변환처리가 안됨\n",
        "\n",
        "a"
      ],
      "metadata": {
        "colab": {
          "base_uri": "https://localhost:8080/",
          "height": 36
        },
        "id": "ErMGWRPzNwmN",
        "outputId": "7d723d58-299d-4d86-cbab-a99e4e09cd53"
      },
      "execution_count": null,
      "outputs": [
        {
          "output_type": "execute_result",
          "data": {
            "text/plain": [
              "'[ABab가나\\t]\\n12!@'"
            ],
            "application/vnd.google.colaboratory.intrinsic+json": {
              "type": "string"
            }
          },
          "metadata": {},
          "execution_count": 98
        }
      ]
    },
    {
      "cell_type": "code",
      "source": [
        "print(a)"
      ],
      "metadata": {
        "colab": {
          "base_uri": "https://localhost:8080/"
        },
        "id": "SC4Erl4VOSqB",
        "outputId": "81e18421-d647-48c1-e552-01708de4404b"
      },
      "execution_count": null,
      "outputs": [
        {
          "output_type": "stream",
          "name": "stdout",
          "text": [
            "[ABab가나\t]\n",
            "12!@\n"
          ]
        }
      ]
    },
    {
      "cell_type": "code",
      "source": [
        "# 강제로 보장\n",
        "a = r'[ABab가나\\t]\\n12!@'\n",
        "print(a)"
      ],
      "metadata": {
        "colab": {
          "base_uri": "https://localhost:8080/"
        },
        "id": "aaL4aIpMOYIi",
        "outputId": "fe0ad454-d633-4f20-af49-540fd93176ac"
      },
      "execution_count": null,
      "outputs": [
        {
          "output_type": "stream",
          "name": "stdout",
          "text": [
            "[ABab가나\\t]\\n12!@\n"
          ]
        }
      ]
    },
    {
      "cell_type": "markdown",
      "source": [
        "- \\b 를 사용할때는 raw string 형태로 표현해야 한다\n",
        "    - \\b 는 **문자열 내부에서 사용**"
      ],
      "metadata": {
        "id": "JRcJoMIVOqMm"
      }
    },
    {
      "cell_type": "code",
      "source": [
        "# \\b : 구분자 역할\n",
        "p = re.compile(r'\\bclass\\b')\n",
        "# 해석 : 앞,뒤에 어떠한 내용 없이 순수한 class라는 단어만 확인하는 정규식"
      ],
      "metadata": {
        "id": "LILfct2uO0T3"
      },
      "execution_count": null,
      "outputs": []
    },
    {
      "cell_type": "code",
      "source": [
        "res = p.search('an no a class at 1234567 가나다')\n",
        "print(res)"
      ],
      "metadata": {
        "colab": {
          "base_uri": "https://localhost:8080/"
        },
        "id": "0Gp2dn2tPL9y",
        "outputId": "1ec2babc-e4a0-4cc4-cd11-dd42e564fbda"
      },
      "execution_count": null,
      "outputs": [
        {
          "output_type": "stream",
          "name": "stdout",
          "text": [
            "<re.Match object; span=(8, 13), match='class'>\n"
          ]
        }
      ]
    },
    {
      "cell_type": "code",
      "source": [
        "# class가 보이지만, 독립적으로 존재하진 않다\n",
        "res = p.search('an no a classification purest at 1234567 가나다')\n",
        "print(res)"
      ],
      "metadata": {
        "colab": {
          "base_uri": "https://localhost:8080/"
        },
        "id": "-yo_U_mOPe3w",
        "outputId": "ec1f6f07-5d86-4273-fd89-40270028832c"
      },
      "execution_count": null,
      "outputs": [
        {
          "output_type": "stream",
          "name": "stdout",
          "text": [
            "None\n"
          ]
        }
      ]
    },
    {
      "cell_type": "markdown",
      "source": [
        "# 주요함수"
      ],
      "metadata": {
        "id": "9jyoSedCVvtf"
      }
    },
    {
      "cell_type": "markdown",
      "source": [
        "- 정규식이 문자열(데이터)내에 패턴으로 존재하는가?\n",
        "    - **match( )**\n",
        "        - 문자열의 **시작(처음)이** 정규식에 매칭되는지 확인\n",
        "        - 매칭되면 매칭 되는 내용을 return\n",
        "\n",
        "    - **search( )**\n",
        "        - 문자열의 **'전체에서'** 정규식에 매칭되는지 확인\n",
        "\n",
        "        - 매칭되면 매칭 되는 내용을 return\n",
        "\n",
        "- 데이터 추출, -> 클리닝(노이즈 제거)\n",
        "    - **sub( )** (subsitute)\n",
        "        - 정규식에 일치되는 부분을 특정 문자열로 **대체**\n",
        "        (replace, remove)\n",
        "\n",
        "- 정규식에 일치하는 문자열을 추출\n",
        "    - **findall( )**\n",
        "        - 정규식에 매칭되는 모든 문자열을 추출(통상 list)\n",
        "    - **finditer( )**\n",
        "        - 정규식에 매칭되는 모든 문자열을 추출(통상 iterator)\n"
      ],
      "metadata": {
        "id": "ArfOzQZhP3LT"
      }
    },
    {
      "cell_type": "markdown",
      "source": [
        "- 정규식 정의"
      ],
      "metadata": {
        "id": "Z4CYaRRHR8sH"
      }
    },
    {
      "cell_type": "code",
      "source": [
        "p = re.compile('[0-9]+')\n",
        "p"
      ],
      "metadata": {
        "colab": {
          "base_uri": "https://localhost:8080/"
        },
        "id": "C79k1gbCRn_h",
        "outputId": "6028df61-feb3-4b62-8186-29bd7fa65442"
      },
      "execution_count": null,
      "outputs": [
        {
          "output_type": "execute_result",
          "data": {
            "text/plain": [
              "re.compile(r'[0-9]+', re.UNICODE)"
            ]
          },
          "metadata": {},
          "execution_count": 105
        }
      ]
    },
    {
      "cell_type": "markdown",
      "source": [
        "## match( )"
      ],
      "metadata": {
        "id": "pa8W44kRRbRL"
      }
    },
    {
      "cell_type": "code",
      "source": [
        "res = p.match('abc5')\n",
        "print(res)"
      ],
      "metadata": {
        "colab": {
          "base_uri": "https://localhost:8080/"
        },
        "id": "l8pNoxc1SAN6",
        "outputId": "ba7f4d1a-bb07-4fe0-e618-280bdacbfd8f"
      },
      "execution_count": null,
      "outputs": [
        {
          "output_type": "stream",
          "name": "stdout",
          "text": [
            "None\n"
          ]
        }
      ]
    },
    {
      "cell_type": "code",
      "source": [
        "# 매칭되는 문자 1개를 찾음\n",
        "res = p.match('5abc5')\n",
        "print(res)"
      ],
      "metadata": {
        "colab": {
          "base_uri": "https://localhost:8080/"
        },
        "id": "h1n8Cp2ZSQ4G",
        "outputId": "26930025-cea7-45a8-e366-0ae1b8490e61"
      },
      "execution_count": null,
      "outputs": [
        {
          "output_type": "stream",
          "name": "stdout",
          "text": [
            "<re.Match object; span=(0, 1), match='5'>\n"
          ]
        }
      ]
    },
    {
      "cell_type": "code",
      "source": [
        "# 매칭되는 문자가 정규식 정의에 해당되지 않을때 까지,\n",
        "res = p.match('51243adf333')\n",
        "print(res)"
      ],
      "metadata": {
        "colab": {
          "base_uri": "https://localhost:8080/"
        },
        "id": "VOaPdmlJSZl0",
        "outputId": "e948719b-b9eb-4543-808d-2abe85d91918"
      },
      "execution_count": null,
      "outputs": [
        {
          "output_type": "stream",
          "name": "stdout",
          "text": [
            "<re.Match object; span=(0, 5), match='51243'>\n"
          ]
        }
      ]
    },
    {
      "cell_type": "markdown",
      "source": [
        "## search( )\n",
        "\n",
        "- 전체에서 확인을 하는데, 한개만 발견되면 종료"
      ],
      "metadata": {
        "id": "mQx5HnRsReI0"
      }
    },
    {
      "cell_type": "code",
      "source": [
        "# 정규식을 만족하는 첫번째 데이터를 찾으면 거기서 종료\n",
        "res = p.search('adfad5f322ee233')\n",
        "print(res)"
      ],
      "metadata": {
        "colab": {
          "base_uri": "https://localhost:8080/"
        },
        "id": "o8TAN3hETKjE",
        "outputId": "7c4179c9-5564-4b60-e002-5ee33c0341e5"
      },
      "execution_count": null,
      "outputs": [
        {
          "output_type": "stream",
          "name": "stdout",
          "text": [
            "<re.Match object; span=(5, 6), match='5'>\n"
          ]
        }
      ]
    },
    {
      "cell_type": "code",
      "source": [
        "# 특정 객체의 존재하는 모든 변,함수를 확인 (내장함수)\n",
        "# dir()\n",
        "print(dir(res))"
      ],
      "metadata": {
        "colab": {
          "base_uri": "https://localhost:8080/"
        },
        "id": "1aw797h-TeV-",
        "outputId": "adf6d00a-f7ff-4f79-fb77-2098725e466e"
      },
      "execution_count": null,
      "outputs": [
        {
          "output_type": "stream",
          "name": "stdout",
          "text": [
            "['__class__', '__class_getitem__', '__copy__', '__deepcopy__', '__delattr__', '__dir__', '__doc__', '__eq__', '__format__', '__ge__', '__getattribute__', '__getitem__', '__gt__', '__hash__', '__init__', '__init_subclass__', '__le__', '__lt__', '__module__', '__ne__', '__new__', '__reduce__', '__reduce_ex__', '__repr__', '__setattr__', '__sizeof__', '__str__', '__subclasshook__', 'end', 'endpos', 'expand', 'group', 'groupdict', 'groups', 'lastgroup', 'lastindex', 'pos', 're', 'regs', 'span', 'start', 'string']\n"
          ]
        }
      ]
    },
    {
      "cell_type": "code",
      "source": [
        "# 전체에서 최초 한개만 찾으면 종료\n",
        "if res:\n",
        "    print( res.groups())\n",
        "    print( res.group())\n",
        "    print( res.group(0))"
      ],
      "metadata": {
        "colab": {
          "base_uri": "https://localhost:8080/"
        },
        "id": "-gXhhPXRTvew",
        "outputId": "86e6d3c6-ea0c-4d26-d53e-2f2ac75eea94"
      },
      "execution_count": null,
      "outputs": [
        {
          "output_type": "stream",
          "name": "stdout",
          "text": [
            "()\n",
            "5\n",
            "5\n"
          ]
        }
      ]
    },
    {
      "cell_type": "markdown",
      "source": [
        "## findall( )"
      ],
      "metadata": {
        "id": "c5QlmkYoRd8C"
      }
    },
    {
      "cell_type": "code",
      "source": [
        "p = re.compile('[a-z]+')\n",
        "data = 'apple abcd3 iej112434 6jkef asdf8474 123 ffef4f4f4 a'"
      ],
      "metadata": {
        "id": "g8D6q5jiUTCy"
      },
      "execution_count": null,
      "outputs": []
    },
    {
      "cell_type": "code",
      "source": [
        "res = p.findall(data)\n",
        "res"
      ],
      "metadata": {
        "colab": {
          "base_uri": "https://localhost:8080/"
        },
        "id": "9bDvp-NXUgsh",
        "outputId": "789d9183-8208-4671-a50f-45c0d55428ef"
      },
      "execution_count": null,
      "outputs": [
        {
          "output_type": "execute_result",
          "data": {
            "text/plain": [
              "['apple', 'abcd', 'iej', 'jkef', 'asdf', 'ffef', 'f', 'f', 'a']"
            ]
          },
          "metadata": {},
          "execution_count": 125
        }
      ]
    },
    {
      "cell_type": "code",
      "source": [
        "# res를 하나의 문자열로 만드시오\n",
        "# 멤버가 모두 문자열인 [] => 하나의문자열로 생성\n",
        "''.join(res)\n",
        "\n"
      ],
      "metadata": {
        "colab": {
          "base_uri": "https://localhost:8080/",
          "height": 36
        },
        "id": "8I33nFd8VUQM",
        "outputId": "a8a51473-fb5b-4c8e-d394-c45ae7683598"
      },
      "execution_count": null,
      "outputs": [
        {
          "output_type": "execute_result",
          "data": {
            "text/plain": [
              "'appleabcdiejjkefasdfffefffa'"
            ],
            "application/vnd.google.colaboratory.intrinsic+json": {
              "type": "string"
            }
          },
          "metadata": {},
          "execution_count": 131
        }
      ]
    },
    {
      "cell_type": "markdown",
      "source": [
        "## finditer( )"
      ],
      "metadata": {
        "id": "VxCmYwRuRd2L"
      }
    },
    {
      "cell_type": "code",
      "source": [
        "res = p.finditer(data)\n",
        "if res:\n",
        "    # iterable(iterator) 객체 -> for문과 같이 사용\n",
        "    for w in res:\n",
        "        # 매칭되는 데이터, 원본 문자열 위치값 등등 추출 가능\n",
        "        print(w.start(),w.end(),w.group(),w.span())"
      ],
      "metadata": {
        "colab": {
          "base_uri": "https://localhost:8080/"
        },
        "id": "QA1XgBogWT5C",
        "outputId": "b8b4d00e-001c-4e38-aad4-49a55f6709be"
      },
      "execution_count": null,
      "outputs": [
        {
          "output_type": "stream",
          "name": "stdout",
          "text": [
            "0 5 apple (0, 5)\n",
            "6 10 abcd (6, 10)\n",
            "12 15 iej (12, 15)\n",
            "23 27 jkef (23, 27)\n",
            "28 32 asdf (28, 32)\n",
            "41 45 ffef (41, 45)\n",
            "46 47 f (46, 47)\n",
            "48 49 f (48, 49)\n",
            "51 52 a (51, 52)\n"
          ]
        }
      ]
    },
    {
      "cell_type": "markdown",
      "source": [
        "## sub( )"
      ],
      "metadata": {
        "id": "l5e7Cv6FReCq"
      }
    },
    {
      "cell_type": "markdown",
      "source": [
        "- 특정 단어와 매칭해서 처리"
      ],
      "metadata": {
        "id": "HK49_r9iW6HR"
      }
    },
    {
      "cell_type": "code",
      "source": [
        "# 색상을 후보군을 나열\n",
        "p = re.compile('(blue|red|white)')"
      ],
      "metadata": {
        "id": "MnO1vNrwW9nt"
      },
      "execution_count": null,
      "outputs": []
    },
    {
      "cell_type": "code",
      "source": [
        "# 매칭되면 해댕 부분을 지정한 단어로 대체\n",
        "p.sub('칼라', '스펀지케익의 색상은 white, 와인의 색상은 red, \\\n",
        "blue 보틀에서 구매한 카페라떼')\n"
      ],
      "metadata": {
        "colab": {
          "base_uri": "https://localhost:8080/",
          "height": 36
        },
        "id": "FOcoMeeBXTk6",
        "outputId": "92a574bc-2e2d-48ce-92b5-170a7a0efeed"
      },
      "execution_count": null,
      "outputs": [
        {
          "output_type": "execute_result",
          "data": {
            "text/plain": [
              "'스펀지케익의 색상은 칼라, 와인의 색상은 칼라, 칼라 보틀에서 구매한 카페라떼'"
            ],
            "application/vnd.google.colaboratory.intrinsic+json": {
              "type": "string"
            }
          },
          "metadata": {},
          "execution_count": 137
        }
      ]
    },
    {
      "cell_type": "markdown",
      "source": [
        "# 그룹핑 - ( )"
      ],
      "metadata": {
        "id": "P6rYwE8cVxhB"
      }
    },
    {
      "cell_type": "markdown",
      "source": [
        "### 기본형"
      ],
      "metadata": {
        "id": "ToW5es-AaQkv"
      }
    },
    {
      "cell_type": "markdown",
      "source": [
        "- 정보를 그룹화 한다\n",
        "    - 편의성 개선, 매칭된 정보를 쉽게 활용할 수 있다"
      ],
      "metadata": {
        "id": "7rJ9NvB5afO-"
      }
    },
    {
      "cell_type": "code",
      "source": [
        "# 데이터 준비\n",
        "text = 'A빌딩 010-1234-5678 급매'\n",
        "text"
      ],
      "metadata": {
        "colab": {
          "base_uri": "https://localhost:8080/",
          "height": 36
        },
        "id": "1YATBHW_amKW",
        "outputId": "5637357d-ca18-48ac-c700-449dbfba5a0c"
      },
      "execution_count": null,
      "outputs": [
        {
          "output_type": "execute_result",
          "data": {
            "text/plain": [
              "'A빌딩 010-1234-5678 급매'"
            ],
            "application/vnd.google.colaboratory.intrinsic+json": {
              "type": "string"
            }
          },
          "metadata": {},
          "execution_count": 157
        }
      ]
    },
    {
      "cell_type": "code",
      "source": [
        "# 정규식 : escape를 주로 사용할 의도\n",
        "p = re.compile(r'\\w+\\s+\\d{3}[-]\\d{3,4}[-]\\d{4}\\s+\\w+')"
      ],
      "metadata": {
        "id": "ORnNusX6azx-"
      },
      "execution_count": null,
      "outputs": []
    },
    {
      "cell_type": "code",
      "source": [
        "res = p.search(text)\n",
        "res"
      ],
      "metadata": {
        "colab": {
          "base_uri": "https://localhost:8080/"
        },
        "id": "ComVd0VLcDEQ",
        "outputId": "7d060b9d-9941-4948-c1ce-5f39986aaf17"
      },
      "execution_count": null,
      "outputs": [
        {
          "output_type": "execute_result",
          "data": {
            "text/plain": [
              "<re.Match object; span=(0, 20), match='A빌딩 010-1234-5678 급매'>"
            ]
          },
          "metadata": {},
          "execution_count": 142
        }
      ]
    },
    {
      "cell_type": "code",
      "source": [
        "# 매칭된 정보만 추출\n",
        "res.group(0)"
      ],
      "metadata": {
        "colab": {
          "base_uri": "https://localhost:8080/",
          "height": 36
        },
        "id": "uk8L2OrwcNJb",
        "outputId": "a189bafb-42ca-4158-faa5-bbcdcb1eb8b6"
      },
      "execution_count": null,
      "outputs": [
        {
          "output_type": "execute_result",
          "data": {
            "text/plain": [
              "'A빌딩 010-1234-5678 급매'"
            ],
            "application/vnd.google.colaboratory.intrinsic+json": {
              "type": "string"
            }
          },
          "metadata": {},
          "execution_count": 145
        }
      ]
    },
    {
      "cell_type": "markdown",
      "source": [
        "- 문제 제기\n",
        "    - 상세정보\n",
        "        - 매물의정보\n",
        "        - 전화번호\n",
        "        - 요구사항\n",
        "    - 상세정보를 획득하기 위해서 2차 정제과정을 거쳐야 한다\n",
        "        - 한번에 정규식으로 원하는 부분을 추출할 뿐만 아니라 데이터도 용도 별로 획득 한다면 ? => 그룹핑을 한다"
      ],
      "metadata": {
        "id": "SVvIdAOecWs-"
      }
    },
    {
      "cell_type": "code",
      "source": [
        "p = re.compile(r'(\\w+)\\s+(\\d{3})[-](\\d{3,4})[-](\\d{4})\\s+(\\w+)')\n",
        "res = p.search(text)\n",
        "res"
      ],
      "metadata": {
        "colab": {
          "base_uri": "https://localhost:8080/"
        },
        "id": "9jiUF9lzcu9P",
        "outputId": "bc22ef1f-6818-4f4d-d3c2-1d723f086855"
      },
      "execution_count": null,
      "outputs": [
        {
          "output_type": "execute_result",
          "data": {
            "text/plain": [
              "<re.Match object; span=(0, 20), match='A빌딩 010-1234-5678 급매'>"
            ]
          },
          "metadata": {},
          "execution_count": 155
        }
      ]
    },
    {
      "cell_type": "code",
      "source": [
        "# 상세 체크\n",
        "# res.group(0)은 매칭된 전체를 출력하는 의미 : 예약된 번호\n",
        "res.group(),res.groups(), res.group(0), res.group(1)"
      ],
      "metadata": {
        "colab": {
          "base_uri": "https://localhost:8080/"
        },
        "id": "CoS2edk-dFhU",
        "outputId": "1bc5bc0d-97b8-4ef4-afd2-c79181277a74"
      },
      "execution_count": null,
      "outputs": [
        {
          "output_type": "execute_result",
          "data": {
            "text/plain": [
              "('A빌딩 010-1234-5678 급매',\n",
              " ('A빌딩', '010-1234-5678', '급매'),\n",
              " 'A빌딩 010-1234-5678 급매',\n",
              " 'A빌딩')"
            ]
          },
          "metadata": {},
          "execution_count": 151
        }
      ]
    },
    {
      "cell_type": "code",
      "source": [
        "# 1~ 그룹의 갯수만큼 세부 정보별로 추출해서 담김\n",
        "res.group(1),res.group(2),res.group(3)"
      ],
      "metadata": {
        "colab": {
          "base_uri": "https://localhost:8080/"
        },
        "id": "MEWgABJidWTP",
        "outputId": "dfae4b21-5c92-469d-fc8a-3c6b780ecb1e"
      },
      "execution_count": null,
      "outputs": [
        {
          "output_type": "execute_result",
          "data": {
            "text/plain": [
              "('A빌딩', '010-1234-5678', '급매')"
            ]
          },
          "metadata": {},
          "execution_count": 152
        }
      ]
    },
    {
      "cell_type": "code",
      "source": [
        "p = re.compile(r'(\\w+)\\s+((\\d{3})[-](\\d{3,4})[-](\\d{4}))\\s+(\\w+)')\n",
        "#그룹 안에 그룹\n",
        "# ( ) 을 중첩해서 만들수도 있음\n",
        "res = p.search(text)\n",
        "[v for v in res.groups()]\n",
        "\n",
        "\n",
        "\n"
      ],
      "metadata": {
        "colab": {
          "base_uri": "https://localhost:8080/"
        },
        "id": "rG8Po0MXdonY",
        "outputId": "6c241217-b207-4b12-bd0e-3411d234e48e"
      },
      "execution_count": null,
      "outputs": [
        {
          "output_type": "execute_result",
          "data": {
            "text/plain": [
              "['A빌딩', '010-1234-5678', '010', '1234', '5678', '급매']"
            ]
          },
          "metadata": {},
          "execution_count": 159
        }
      ]
    },
    {
      "cell_type": "markdown",
      "source": [
        "## 그룹핑 된 문자열의 자기참조"
      ],
      "metadata": {
        "id": "3_3cX9n-aSuf"
      }
    },
    {
      "cell_type": "markdown",
      "source": [
        "- 중복된 표현이 자주 등장한다면\n",
        "    - 자기 참조 기법을 활용하여 간단하게 표기\n",
        "    - \\1 : 첫번째 그룹을 지칭(참조)\n",
        "        - \\1,\\2,\\3, ...\n",
        "\n",
        "- 자기 참조식\n",
        "    - 매칭되서 나오는 값도 일치(이 조건 추가됨)"
      ],
      "metadata": {
        "id": "ZmOiSRf2fQzE"
      }
    },
    {
      "cell_type": "code",
      "source": [
        "p = re.compile(r'(\\b\\w+)\\s+(\\b\\w+)') # 같은 표현이 나온 정규식\n",
        "# 정규식과 일치하는 첫번째 패턴을 찾으면 종료 왜? search이기 때문에\n",
        "res = p.search('python numpy pandas pandas sklearn tensorflow')\n",
        "\n",
        "if res:\n",
        "    print(res.groups())\n",
        "    print(res.group())"
      ],
      "metadata": {
        "colab": {
          "base_uri": "https://localhost:8080/"
        },
        "id": "62249v_Rfap3",
        "outputId": "cbd92409-4af5-4c0c-e992-530b46c88b5b"
      },
      "execution_count": null,
      "outputs": [
        {
          "output_type": "stream",
          "name": "stdout",
          "text": [
            "('python', 'numpy')\n",
            "python numpy\n"
          ]
        }
      ]
    },
    {
      "cell_type": "code",
      "source": [
        "# 참조값과 일치하는 패턴, 추출값 2 조건을 모두 만족 해야 함\n",
        "p = re.compile(r'(\\b\\w+)\\s+\\1') # 같은 표현이 나온 정규식\n",
        "# 정규식과 일치하는 첫번째 패턴을 찾으면 종료 왜? search이기 때문에\n",
        "res = p.search('python numpy pandas pandas sklearn tensorflow')\n",
        "\n",
        "if res:\n",
        "    print(res.groups())\n",
        "    print(res.group())"
      ],
      "metadata": {
        "colab": {
          "base_uri": "https://localhost:8080/"
        },
        "outputId": "d1730112-aa0b-45ed-a3fa-119742895108",
        "id": "NNsyf_4Hgc5X"
      },
      "execution_count": null,
      "outputs": [
        {
          "output_type": "stream",
          "name": "stdout",
          "text": [
            "('pandas',)\n",
            "pandas pandas\n"
          ]
        }
      ]
    },
    {
      "cell_type": "markdown",
      "source": [
        "## 그룹 네이밍"
      ],
      "metadata": {
        "id": "YEYkzMfEaQht"
      }
    },
    {
      "cell_type": "markdown",
      "source": [
        "- 그룹에 이름을 부여해서 관리\n",
        "- **(?P<이름:네이밍>정규식)**"
      ],
      "metadata": {
        "id": "-ElNukV2g8Iw"
      }
    },
    {
      "cell_type": "code",
      "source": [
        "text"
      ],
      "metadata": {
        "colab": {
          "base_uri": "https://localhost:8080/",
          "height": 36
        },
        "id": "ucZj4PSHhFG6",
        "outputId": "af43bd34-4bc2-4df0-a4fe-20563b9f6188"
      },
      "execution_count": null,
      "outputs": [
        {
          "output_type": "execute_result",
          "data": {
            "text/plain": [
              "'A빌딩 010-1234-5678 급매'"
            ],
            "application/vnd.google.colaboratory.intrinsic+json": {
              "type": "string"
            }
          },
          "metadata": {},
          "execution_count": 163
        }
      ]
    },
    {
      "cell_type": "code",
      "source": [
        "p = re.compile(r'(?P<goods>\\w+)\\s+((?P<HP1>\\d{3})[-](?P<HP2>\\d{3,4})[-](?P<HP3>\\d{4}))\\s+(?P<need>\\w+)')\n",
        "res = p.search(text)"
      ],
      "metadata": {
        "id": "6vGoPGxVhOXZ"
      },
      "execution_count": null,
      "outputs": []
    },
    {
      "cell_type": "code",
      "source": [
        "res.group(1), res.group('goods')"
      ],
      "metadata": {
        "colab": {
          "base_uri": "https://localhost:8080/"
        },
        "id": "SHWwJCCyhyne",
        "outputId": "a52abebd-0720-4c0c-9d75-9449aaffdf31"
      },
      "execution_count": null,
      "outputs": [
        {
          "output_type": "execute_result",
          "data": {
            "text/plain": [
              "('A빌딩', 'A빌딩')"
            ]
          },
          "metadata": {},
          "execution_count": 170
        }
      ]
    },
    {
      "cell_type": "markdown",
      "source": [
        "## 자기참조 / 네이밍참조"
      ],
      "metadata": {
        "id": "AxKFy0i7aQbo"
      }
    },
    {
      "cell_type": "markdown",
      "source": [
        "- 참조하고 싶은 그룹이 이름이 있다\n",
        "- (?P=이름)"
      ],
      "metadata": {
        "id": "4YnIHA4SiFBV"
      }
    },
    {
      "cell_type": "code",
      "source": [
        "p = re.compile(r'(?P<subject>\\b\\w+)\\s+(?P=subject)')\n",
        "res = p.search('python numpy pandas pandas sklearn tensorflow')\n",
        "if res:\n",
        "    print( res.groups() )\n",
        "    print( res.group() )"
      ],
      "metadata": {
        "colab": {
          "base_uri": "https://localhost:8080/"
        },
        "id": "SfGaRABxiY0Y",
        "outputId": "c980becc-eb5d-4812-8735-a8a0aebe18fc"
      },
      "execution_count": null,
      "outputs": [
        {
          "output_type": "stream",
          "name": "stdout",
          "text": [
            "('pandas',)\n",
            "pandas pandas\n"
          ]
        }
      ]
    },
    {
      "cell_type": "markdown",
      "source": [
        "# 컴파일 옵션"
      ],
      "metadata": {
        "id": "IHTUAxC2VxZw"
      }
    },
    {
      "cell_type": "markdown",
      "source": [
        "- re.compile('정규식', re.옵션)"
      ],
      "metadata": {
        "id": "aBMXjYPVjAm5"
      }
    },
    {
      "cell_type": "markdown",
      "source": [
        "## DOTALL, S\n",
        "\n",
        "- 모든 문자, \\n 포함"
      ],
      "metadata": {
        "id": "5j9e_L_njQ6U"
      }
    },
    {
      "cell_type": "code",
      "source": [
        "p = re.compile('a.b')\n",
        "\n",
        "print(p.match( 'a|b' ))\n",
        "print(p.match( 'acb' ))\n",
        "print(p.match( 'a1b' ))\n",
        "print(p.match( 'a가b' ))\n",
        "print(p.match( 'a@#b' )) #문자수에서 매칭 안됨\n",
        "print(p.match( 'a\\nb' )) #.이 없어서 매칭 안됨"
      ],
      "metadata": {
        "colab": {
          "base_uri": "https://localhost:8080/"
        },
        "id": "Fe8efx_Gjqj1",
        "outputId": "659da846-b31e-40a9-f063-cc4902e96583"
      },
      "execution_count": null,
      "outputs": [
        {
          "output_type": "stream",
          "name": "stdout",
          "text": [
            "<re.Match object; span=(0, 3), match='a|b'>\n",
            "<re.Match object; span=(0, 3), match='acb'>\n",
            "<re.Match object; span=(0, 3), match='a1b'>\n",
            "<re.Match object; span=(0, 3), match='a가b'>\n",
            "None\n",
            "None\n"
          ]
        }
      ]
    },
    {
      "cell_type": "code",
      "source": [
        "p = re.compile('a.b', re.DOTALL) #DOTALL, S 동일어\n",
        "\n",
        "print(p.match( 'a|b' ))\n",
        "print(p.match( 'acb' ))\n",
        "print(p.match( 'a1b' ))\n",
        "print(p.match( 'a가b' ))\n",
        "print(p.match( 'a@#b' )) #문자수에서 매칭 안됨\n",
        "print(p.match( 'a\\nb' )) # 이제 됨"
      ],
      "metadata": {
        "colab": {
          "base_uri": "https://localhost:8080/"
        },
        "id": "moS9YDt2kROc",
        "outputId": "dea7f322-626a-4999-da0e-fadef66e45df"
      },
      "execution_count": null,
      "outputs": [
        {
          "output_type": "stream",
          "name": "stdout",
          "text": [
            "<re.Match object; span=(0, 3), match='a|b'>\n",
            "<re.Match object; span=(0, 3), match='acb'>\n",
            "<re.Match object; span=(0, 3), match='a1b'>\n",
            "<re.Match object; span=(0, 3), match='a가b'>\n",
            "None\n",
            "<re.Match object; span=(0, 3), match='a\\nb'>\n"
          ]
        }
      ]
    },
    {
      "cell_type": "markdown",
      "source": [
        "## IGNORECASE, I\n",
        "\n",
        "- 대,소문자 구분 안한다"
      ],
      "metadata": {
        "id": "Xz9Nt-sRjT_U"
      }
    },
    {
      "cell_type": "code",
      "source": [
        "p = re.compile('[a-z]')\n",
        "\n",
        "print(p.match( 'p' ))\n",
        "print(p.match( 'P' ))"
      ],
      "metadata": {
        "colab": {
          "base_uri": "https://localhost:8080/"
        },
        "id": "6DXWi0UVklYz",
        "outputId": "21643d73-7a0c-40a8-bf8c-4b81c3806057"
      },
      "execution_count": null,
      "outputs": [
        {
          "output_type": "stream",
          "name": "stdout",
          "text": [
            "<re.Match object; span=(0, 1), match='p'>\n",
            "None\n"
          ]
        }
      ]
    },
    {
      "cell_type": "code",
      "source": [
        "p = re.compile('[a-z]',re.I) #IGNORECASE, I\n",
        "\n",
        "print(p.match( 'p' ))\n",
        "print(p.match( 'P' ))"
      ],
      "metadata": {
        "colab": {
          "base_uri": "https://localhost:8080/"
        },
        "id": "yJWIvu3Ek1z3",
        "outputId": "6f9af54a-155c-48d3-dac4-431e5f4a1705"
      },
      "execution_count": null,
      "outputs": [
        {
          "output_type": "stream",
          "name": "stdout",
          "text": [
            "<re.Match object; span=(0, 1), match='p'>\n",
            "<re.Match object; span=(0, 1), match='P'>\n"
          ]
        }
      ]
    },
    {
      "cell_type": "markdown",
      "source": [
        "## MULTILNE, M\n",
        "\n",
        "- 여러 문장을 탐색하면서 매칭\n",
        "- 데이터 상의 특정 단어가 자주 등장한다면"
      ],
      "metadata": {
        "id": "3r96d8FTjbec"
      }
    },
    {
      "cell_type": "code",
      "source": [
        "texts = '''\n",
        "(엑스포츠뉴스 김지수 기자) '코리안 몬스터' 류현진(37) 11년 간의 미국 메이저리그 커리어를 마치고 KBO리그에 복귀했다. 친정팀 한화 이글스 유니폼을 입고 2024시즌부터 한국 팬들 앞에서 뛰게 됐다.\n",
        "\n",
        "한화는 22일 류현진과 계약 기간 8년, 총액 170억 원의 조건에 계약을 완료했다고 밝혔다. 류현진은 양의지가 2023시즌을 앞두고 두산 베어스와 계약한 4+2년 최대 152억원의 최고 총액을 1년 만에 경신했다.\n",
        "\n",
        "계약 조건에는 옵트아웃이 포함되어 있다. 다만 세부 옵트아웃 내용은 선수와 구단 양측 합의 하에 비공개로 결정됐다. 현재 적용 중인 샐러리캡(연봉총상한제)과 류현진이 행사할 수 있는 KBO리그 FA로서의 권리를 두루 고려해 4년이 아닌 8년 계약 기간과 총액이 결정된 것으로 보인다.\n",
        "\n",
        "류현진은 이번 계약에 따라 류현진은 만 37세로 올 시즌을 시작해 만 44세가 되는 오는 2031년까지 한화이글스 선수로 커리어를 이어가게 됐다.\n",
        "\n",
        "만약 류현진이 계약기간을 모두 채우게 되면 한화 이글스 송진우가 기록한 최고령 경기 출장 기록인 43세 7개월 7일을 넘어 한국 프로야구의 새로운 기록을 갖게 된다.\n",
        "\n",
        "류현진은 \"나를 믿고 좋은 대우를 해 주신 만큼 다시 한화 이글스의 일원으로 활약해 새로운 기록과 역사를 만들어 나갈 수 있도록 최선을 다 하겠다\"며 \"특히 항상 응원과 기대를 해주신 팬 여러분들께 보답한다는 마음으로 팀에 좋은 영향력을 미칠 수 있게 최선을 다하겠다\"고 각오를 다졌다.\n",
        "'''\n",
        "\n",
        "texts"
      ],
      "metadata": {
        "colab": {
          "base_uri": "https://localhost:8080/",
          "height": 167
        },
        "id": "M6QP0Ds2nq7m",
        "outputId": "c2eca8a7-3a48-4370-d0bd-23637a6582f6"
      },
      "execution_count": null,
      "outputs": [
        {
          "output_type": "execute_result",
          "data": {
            "text/plain": [
              "'\\n(엑스포츠뉴스 김지수 기자) \\'코리안 몬스터\\' 류현진(37) 11년 간의 미국 메이저리그 커리어를 마치고 KBO리그에 복귀했다. 친정팀 한화 이글스 유니폼을 입고 2024시즌부터 한국 팬들 앞에서 뛰게 됐다.\\n\\n한화는 22일 류현진과 계약 기간 8년, 총액 170억 원의 조건에 계약을 완료했다고 밝혔다. 류현진은 양의지가 2023시즌을 앞두고 두산 베어스와 계약한 4+2년 최대 152억원의 최고 총액을 1년 만에 경신했다. \\n\\n계약 조건에는 옵트아웃이 포함되어 있다. 다만 세부 옵트아웃 내용은 선수와 구단 양측 합의 하에 비공개로 결정됐다. 현재 적용 중인 샐러리캡(연봉총상한제)과 류현진이 행사할 수 있는 KBO리그 FA로서의 권리를 두루 고려해 4년이 아닌 8년 계약 기간과 총액이 결정된 것으로 보인다.\\n\\n류현진은 이번 계약에 따라 류현진은 만 37세로 올 시즌을 시작해 만 44세가 되는 오는 2031년까지 한화이글스 선수로 커리어를 이어가게 됐다.\\n\\n만약 류현진이 계약기간을 모두 채우게 되면 한화 이글스 송진우가 기록한 최고령 경기 출장 기록인 43세 7개월 7일을 넘어 한국 프로야구의 새로운 기록을 갖게 된다.\\n\\n류현진은 \"나를 믿고 좋은 대우를 해 주신 만큼 다시 한화 이글스의 일원으로 활약해 새로운 기록과 역사를 만들어 나갈 수 있도록 최선을 다 하겠다\"며 \"특히 항상 응원과 기대를 해주신 팬 여러분들께 보답한다는 마음으로 팀에 좋은 영향력을 미칠 수 있게 최선을 다하겠다\"고 각오를 다졌다.\\n'"
            ],
            "application/vnd.google.colaboratory.intrinsic+json": {
              "type": "string"
            }
          },
          "metadata": {},
          "execution_count": 179
        }
      ]
    },
    {
      "cell_type": "code",
      "source": [
        "# 해석 : 류현진 + 문자 (0~무한대), 만약 white space가 나오면 매칭이 끝남\n",
        "p = re.compile('류현진\\w*',re.MULTILINE)\n",
        "p.findall( texts )"
      ],
      "metadata": {
        "colab": {
          "base_uri": "https://localhost:8080/"
        },
        "id": "DwtbIOK3oFq6",
        "outputId": "d93f04bc-7355-4317-a6b1-3f211f40761a"
      },
      "execution_count": null,
      "outputs": [
        {
          "output_type": "execute_result",
          "data": {
            "text/plain": [
              "['류현진', '류현진과', '류현진은', '류현진이', '류현진은', '류현진은', '류현진이', '류현진은']"
            ]
          },
          "metadata": {},
          "execution_count": 182
        }
      ]
    },
    {
      "cell_type": "markdown",
      "source": [
        "## VERVOSE , X\n",
        "\n",
        "- 통상 로그표시 여부로 사용하는 단어\n",
        "\n",
        "-여기서는 정규식이 복잡하면 설명이 필요하다.\n",
        "    - 그래서, **정규식의 의미로 유지하면서 구조와 설명을 기술 할 수 있는 기능**\n"
      ],
      "metadata": {
        "id": "uicGIyHNjfu1"
      }
    },
    {
      "cell_type": "code",
      "source": [
        "# 8,10,16진수 값이 올 수 있는 정규식, 첫번째 그룹값\n",
        "re.compile('(0[0-7+|[0-9]+|x[0-9a-fA-F]+)')"
      ],
      "metadata": {
        "id": "H7WoqlN9o867"
      },
      "execution_count": null,
      "outputs": []
    },
    {
      "cell_type": "code",
      "source": [
        "re.compile( '''\n",
        "(                   #1번 그룹 시작\n",
        "\n",
        "    0[0-7]+          #8진수\n",
        "    |               #or\n",
        "    [0-9]+          #10진수\n",
        "    |               #or\n",
        "    x[0-9a-fA-F]+   #16진수\n",
        ")                   # 1번 그룹핑 종료\n",
        "''',re.X)"
      ],
      "metadata": {
        "colab": {
          "base_uri": "https://localhost:8080/"
        },
        "id": "53ac-z8YpZMj",
        "outputId": "77435f85-e13a-4b99-f036-bbff20d77258"
      },
      "execution_count": null,
      "outputs": [
        {
          "output_type": "execute_result",
          "data": {
            "text/plain": [
              "re.compile(r'\\n(                   #1번 그룹 시작\\n\\n    0[0-7]+          #8진수\\n    |               #or\\n    [0-9]+          #10진수\\n    |               #or\\n    x[0-9a-fA-F]+   #16진수\\n)                   # 1번 그룹핑 종료\\n',\n",
              "re.UNICODE|re.VERBOSE)"
            ]
          },
          "metadata": {},
          "execution_count": 184
        }
      ]
    },
    {
      "cell_type": "markdown",
      "source": [
        "# 전방 탐색"
      ],
      "metadata": {
        "id": "KVGaIdadV0fP"
      }
    },
    {
      "cell_type": "markdown",
      "source": [
        "## 긍정형 : positive\n",
        "\n",
        "- 긍정형 전방탐색\n",
        "\n",
        "- (?=...)\n"
      ],
      "metadata": {
        "id": "ZodfIzXkqAOE"
      }
    },
    {
      "cell_type": "code",
      "source": [
        "'''\n",
        "    http, https 프로토콜 이해\n",
        "    https://ID:PW@DOMAIN:PORT/PATH ~\n",
        "    프로토콜://아이디:비번@도메인(IP):포트(1~65535)/...\n",
        "    ex) https://www.naver.com\n",
        "    => 이런 문자열에서 프로토콜명을 추출하시오 => https\n",
        "\n",
        "    <긍정형 전방탐색을 이용하여 프로토콜 명을 추출한다>\n",
        "'''\n",
        "text = 'https://www.naver.com'\n",
        "\n",
        "p   = re.compile('.+:')\n",
        "res = p.search(text)\n",
        "if res:\n",
        "    print( res.group())"
      ],
      "metadata": {
        "colab": {
          "base_uri": "https://localhost:8080/"
        },
        "id": "JovD1q7Yqkqi",
        "outputId": "d0035694-8dfd-4370-9b69-651c0fa0a54d"
      },
      "execution_count": null,
      "outputs": [
        {
          "output_type": "stream",
          "name": "stdout",
          "text": [
            "https:\n"
          ]
        }
      ]
    },
    {
      "cell_type": "code",
      "source": [
        "# 특정 기준에서 '앞에값'을 추출하는 방식\n",
        "# 기준 값이 포함 되지 않게 정밀하게 조정가능\n",
        "p   = re.compile('.+(?=:)')\n",
        "res = p.search(text)\n",
        "if res:\n",
        "    print( res.group())"
      ],
      "metadata": {
        "colab": {
          "base_uri": "https://localhost:8080/"
        },
        "id": "7P9QSIM_ru3E",
        "outputId": "3f6bc597-5f18-468f-cbd9-9ea9891d495a"
      },
      "execution_count": null,
      "outputs": [
        {
          "output_type": "stream",
          "name": "stdout",
          "text": [
            "https\n"
          ]
        }
      ]
    },
    {
      "cell_type": "markdown",
      "source": [
        "## 부정형 : negative\n",
        "\n",
        "- 부정형 전방탐색\n",
        "        - (?!...)"
      ],
      "metadata": {
        "id": "8NrrYVtwqB1F"
      }
    },
    {
      "cell_type": "code",
      "source": [
        "# 주어진 파일명(데이터)에서 확장자가 *.py, *.msi로 끝나는 파일은 제외한다\n",
        "# 파일 => 파일명(없을수도 있음).확장자(없을 수 있다)\n",
        "p = re.compile( '.*[.](?!py$|msi$).*$' )"
      ],
      "metadata": {
        "id": "NcYZFCipsExO"
      },
      "execution_count": null,
      "outputs": []
    },
    {
      "cell_type": "code",
      "source": [
        "print(p.search('a.hwp'))\n",
        "print(p.search('a.py'))\n",
        "print(p.search('a.msi'))\n"
      ],
      "metadata": {
        "colab": {
          "base_uri": "https://localhost:8080/"
        },
        "id": "6_n6fo9Qswql",
        "outputId": "8d4e0d7e-ebcf-45d7-9376-c5be3d44af15"
      },
      "execution_count": null,
      "outputs": [
        {
          "output_type": "stream",
          "name": "stdout",
          "text": [
            "<re.Match object; span=(0, 5), match='a.hwp'>\n",
            "None\n",
            "None\n"
          ]
        }
      ]
    },
    {
      "cell_type": "code",
      "source": [
        "print(p.search('a.py2'))\n",
        "print(p.search('a.msi2'))"
      ],
      "metadata": {
        "colab": {
          "base_uri": "https://localhost:8080/"
        },
        "id": "W5qOaSxStEPc",
        "outputId": "3415104c-2824-4335-d0f5-f1b4893efd72"
      },
      "execution_count": null,
      "outputs": [
        {
          "output_type": "stream",
          "name": "stdout",
          "text": [
            "<re.Match object; span=(0, 5), match='a.py2'>\n",
            "<re.Match object; span=(0, 6), match='a.msi2'>\n"
          ]
        }
      ]
    },
    {
      "cell_type": "markdown",
      "source": [
        "# 기타"
      ],
      "metadata": {
        "id": "CgIv4TUzV15U"
      }
    },
    {
      "cell_type": "code",
      "source": [
        "# 주민번호 -> 의미는 무시, 숫자배치만 신경쓴다면?\n",
        "# {7,7} == {7}\n",
        "p = re.compile('(\\d{6})[-]\\d{7,7}')\n",
        "data = '''\n",
        "    A 940101-1234567\n",
        "    B 990101-1234567\n",
        "'''\n",
        "# \\g<1> : 1번 그룹을 참조\n",
        "# \\g<2> : 2번 그룹을 참조\n",
        "# 해석 : 숫자가 6개 올수있고 그 다음은 -으로 이어짐\n",
        "# 그 다음은\n",
        "p = re.compile('(\\d{6})[-](\\d)\\d{6}')\n",
        "\n",
        "print(p.sub('\\g<1>-\\g<2>******',data))"
      ],
      "metadata": {
        "colab": {
          "base_uri": "https://localhost:8080/"
        },
        "id": "wnJu44fptN_-",
        "outputId": "5ab5e21a-2892-47c7-ec9a-76c3803fb62c"
      },
      "execution_count": null,
      "outputs": [
        {
          "output_type": "stream",
          "name": "stdout",
          "text": [
            "\n",
            "    A 940101-1******\n",
            "    B 990101-1******\n",
            "\n"
          ]
        }
      ]
    },
    {
      "cell_type": "code",
      "source": [
        "# 연습: 아래처럼 나오게 표현\n",
        "# A 940101-1******\n",
        "\n",
        "# 이메일\n",
        "# '^[]+@[]+\\.[]+$'\n",
        "\n",
        "# 내가한거 ('^[\\w]+@[\\w]+.[\\w]+$')\n",
        "# 맞는거 ('^[a-zA-Z0-9+-_.]+@[a-zA-Z0-9]+\\.[a-zA-Z0-9-.]+$)\n",
        "\n",
        "p = re.compile('^[a-zA-Z0-9+-_.]+@[a-zA-Z0-9]+\\.[a-zA-Z0-9-.]+$')\n",
        "p.match('a@a.com')\n",
        "p.match('a@a.co.kr')\n",
        "\n",
        "# data = '''\n",
        "#     ppianist89@gmail.com\n",
        "#     pp!@yahoo.com\n",
        "#     1234@yahoo.net\n",
        "# '''\n",
        "# res = p.findall(data)\n",
        "# print(res)"
      ],
      "metadata": {
        "colab": {
          "base_uri": "https://localhost:8080/"
        },
        "id": "-GK3Cd4OuCvy",
        "outputId": "8f399a45-2d70-4907-b461-1f39480e8949"
      },
      "execution_count": null,
      "outputs": [
        {
          "output_type": "execute_result",
          "data": {
            "text/plain": [
              "<re.Match object; span=(0, 9), match='a@a.co.kr'>"
            ]
          },
          "metadata": {},
          "execution_count": 216
        }
      ]
    }
  ]
}